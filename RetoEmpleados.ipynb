{
 "cells": [
  {
   "cell_type": "code",
   "execution_count": 233,
   "metadata": {},
   "outputs": [],
   "source": [
    "#1 Importa las librerías requeridas.\n",
    "import pandas as pd\n",
    "from sklearn import preprocessing\n",
    "from sklearn.decomposition import PCA\n"
   ]
  },
  {
   "cell_type": "code",
   "execution_count": 234,
   "metadata": {},
   "outputs": [],
   "source": [
    "#2 Lee el archivo CSV llamado empleadosRETO.csv y coloca los datos\n",
    "# en un frame de Pandas llamado EmpleadosAttrition.\n",
    "EmpleadosAttrition = pd.read_csv(\"empleadosRETO.csv\")"
   ]
  },
  {
   "cell_type": "code",
   "execution_count": null,
   "metadata": {},
   "outputs": [],
   "source": [
    "#3 Elimina las columnas que, con alta probabilidad (estimada por ti), \n",
    "# no tienen relación alguna con la salida.\n",
    "EmpleadosAttrition.drop(\"EmployeeCount\", axis = 1, inplace=True)\n",
    "EmpleadosAttrition.drop(\"EmployeeNumber\", axis = 1, inplace=True)\n",
    "EmpleadosAttrition.drop(\"Over18\", axis = 1, inplace=True)\n",
    "EmpleadosAttrition.drop(\"StandardHours\", axis = 1, inplace=True)"
   ]
  },
  {
   "cell_type": "code",
   "execution_count": 236,
   "metadata": {},
   "outputs": [],
   "source": [
    "#5 Crea una columna llamada Year y obtén el año de contratación \n",
    "# del empleado a partir de su fecha ‘HiringDate’.\n",
    "EmpleadosAttrition['Year'] = EmpleadosAttrition['HiringDate'].str[-4:].astype(int)\n"
   ]
  },
  {
   "cell_type": "code",
   "execution_count": 237,
   "metadata": {},
   "outputs": [],
   "source": [
    "#6 y #4 Crea una columna llamada YearsAtCompany que contenga los años que el empleado\n",
    "#lleva en la compañía hasta el año 2018.\n",
    "EmpleadosAttrition['YearsAtCompany'] = 2018 - EmpleadosAttrition['Year']\n"
   ]
  },
  {
   "cell_type": "code",
   "execution_count": 238,
   "metadata": {},
   "outputs": [],
   "source": [
    "#7 y #8 La DistanceFromHome está dada en kilómetros, pero tiene las letras \n",
    "# “km” al final y así no puede ser entera. Renombra la variable DistanceFromHome \n",
    "# a DistanceFromHome_km\n",
    "EmpleadosAttrition.rename(columns={'DistanceFromHome':'DistanceFromHome_km'}, inplace=True)"
   ]
  },
  {
   "cell_type": "code",
   "execution_count": 239,
   "metadata": {},
   "outputs": [],
   "source": [
    "#9 Crea una nueva variable DistanceFromHome que sea entera.\n",
    "EmpleadosAttrition['DistanceFromHome'] = EmpleadosAttrition['DistanceFromHome_km'].str.replace('km', '').astype(int)\n",
    "\n"
   ]
  },
  {
   "cell_type": "code",
   "execution_count": 240,
   "metadata": {},
   "outputs": [],
   "source": [
    "#10 Borra las columnas Year, HiringDate\n",
    "# y DistanceFromHome_km debido a que ya no son útiles.\n",
    "EmpleadosAttrition.drop(\"Year\", axis = 1, inplace=True)\n",
    "EmpleadosAttrition.drop(\"DistanceFromHome_km\", axis = 1, inplace=True)\n",
    "EmpleadosAttrition.drop(\"HiringDate\", axis = 1, inplace=True)\n"
   ]
  },
  {
   "cell_type": "code",
   "execution_count": 241,
   "metadata": {},
   "outputs": [
    {
     "data": {
      "text/html": [
       "<div>\n",
       "<style scoped>\n",
       "    .dataframe tbody tr th:only-of-type {\n",
       "        vertical-align: middle;\n",
       "    }\n",
       "\n",
       "    .dataframe tbody tr th {\n",
       "        vertical-align: top;\n",
       "    }\n",
       "\n",
       "    .dataframe thead th {\n",
       "        text-align: right;\n",
       "    }\n",
       "</style>\n",
       "<table border=\"1\" class=\"dataframe\">\n",
       "  <thead>\n",
       "    <tr style=\"text-align: right;\">\n",
       "      <th></th>\n",
       "      <th>MonthlyIncome</th>\n",
       "    </tr>\n",
       "    <tr>\n",
       "      <th>Department</th>\n",
       "      <th></th>\n",
       "    </tr>\n",
       "  </thead>\n",
       "  <tbody>\n",
       "    <tr>\n",
       "      <th>Human Resources</th>\n",
       "      <td>6239.89</td>\n",
       "    </tr>\n",
       "    <tr>\n",
       "      <th>Research &amp; Development</th>\n",
       "      <td>6804.15</td>\n",
       "    </tr>\n",
       "    <tr>\n",
       "      <th>Sales</th>\n",
       "      <td>7188.25</td>\n",
       "    </tr>\n",
       "  </tbody>\n",
       "</table>\n",
       "</div>"
      ],
      "text/plain": [
       "                        MonthlyIncome\n",
       "Department                           \n",
       "Human Resources               6239.89\n",
       "Research & Development        6804.15\n",
       "Sales                         7188.25"
      ]
     },
     "execution_count": 241,
     "metadata": {},
     "output_type": "execute_result"
    }
   ],
   "source": [
    "#11 Genera una nuevo frame llamado SueldoPromedioDepto que contenga el \n",
    "# MonthlyIncome promedio por departamento de los empleados y colócalo \n",
    "# en una variable llamada SueldoPromedio. \n",
    "SueldoPromedioDepto = EmpleadosAttrition.groupby(['Department'])[['MonthlyIncome']].mean().round(2)\n",
    "SueldoPromedioDepto"
   ]
  },
  {
   "cell_type": "code",
   "execution_count": 242,
   "metadata": {},
   "outputs": [],
   "source": [
    "#12  Escala MonthlyIncome para que tenga un valor entre 0 y 1. \n",
    "EmpleadosAttrition['MonthlyIncome_norm'] = (EmpleadosAttrition['MonthlyIncome']-\n",
    "EmpleadosAttrition['MonthlyIncome'].min())/(EmpleadosAttrition['MonthlyIncome'].max()-\n",
    "EmpleadosAttrition['MonthlyIncome'].min())\n",
    "\n",
    "EmpleadosAttrition = EmpleadosAttrition.drop(columns=['MonthlyIncome'])\n"
   ]
  },
  {
   "cell_type": "code",
   "execution_count": 243,
   "metadata": {},
   "outputs": [],
   "source": [
    "#13a Convierte todas las variables categóricas que quedan a numéricas:\n",
    "BusinessTravel_OH = pd.get_dummies(EmpleadosAttrition['BusinessTravel'], prefix='BusinessTravel', dtype=int)\n",
    "EmpleadosAttrition = EmpleadosAttrition.drop(columns=['BusinessTravel'])\n",
    "EmpleadosAttrition = pd.concat([EmpleadosAttrition, BusinessTravel_OH], axis=1)"
   ]
  },
  {
   "cell_type": "code",
   "execution_count": 244,
   "metadata": {},
   "outputs": [],
   "source": [
    "#13b Convierte todas las variables categóricas que quedan a numéricas:\n",
    "Department_OH_OH = pd.get_dummies(EmpleadosAttrition['Department'], prefix='Department', dtype=int)\n",
    "EmpleadosAttrition = EmpleadosAttrition.drop(columns=['Department'])\n",
    "EmpleadosAttrition = pd.concat([EmpleadosAttrition, Department_OH], axis=1)"
   ]
  },
  {
   "cell_type": "code",
   "execution_count": 245,
   "metadata": {},
   "outputs": [],
   "source": [
    "#13c Convierte todas las variables categóricas que quedan a numéricas:\n",
    "EducationField_OH = pd.get_dummies(EmpleadosAttrition['EducationField'], prefix='EducationField', dtype=int)\n",
    "EmpleadosAttrition = EmpleadosAttrition.drop(columns=['EducationField'])\n",
    "EmpleadosAttrition = pd.concat([EmpleadosAttrition, EducationField_OH], axis=1)"
   ]
  },
  {
   "cell_type": "code",
   "execution_count": 246,
   "metadata": {},
   "outputs": [],
   "source": [
    "#13d Convierte todas las variables categóricas que quedan a numéricas:\n",
    "Gender_OH = pd.get_dummies(EmpleadosAttrition['Gender'], prefix='Gender', dtype=int)\n",
    "EmpleadosAttrition = EmpleadosAttrition.drop(columns=['Gender'])\n",
    "EmpleadosAttrition = pd.concat([EmpleadosAttrition, Gender_OH], axis=1)"
   ]
  },
  {
   "cell_type": "code",
   "execution_count": 247,
   "metadata": {},
   "outputs": [],
   "source": [
    "#13e Convierte todas las variables categóricas que quedan a numéricas:\n",
    "JobRole_OH = pd.get_dummies(EmpleadosAttrition['JobRole'], prefix='JobRole', dtype=int)\n",
    "EmpleadosAttrition = EmpleadosAttrition.drop(columns=['JobRole'])\n",
    "EmpleadosAttrition = pd.concat([EmpleadosAttrition, JobRole_OH], axis=1)"
   ]
  },
  {
   "cell_type": "code",
   "execution_count": 248,
   "metadata": {},
   "outputs": [],
   "source": [
    "#13f Convierte todas las variables categóricas que quedan a numéricas:\n",
    "MaritalStatus_OH = pd.get_dummies(EmpleadosAttrition['MaritalStatus'], prefix='MaritalStatus', dtype=int)\n",
    "EmpleadosAttrition = EmpleadosAttrition.drop(columns=['MaritalStatus'])\n",
    "EmpleadosAttrition = pd.concat([EmpleadosAttrition, MaritalStatus_OH], axis=1)"
   ]
  },
  {
   "cell_type": "code",
   "execution_count": 249,
   "metadata": {},
   "outputs": [],
   "source": [
    "#Convierte todas las variables categóricas que quedan a numéricas:\n",
    "OverTime_OH = pd.get_dummies(EmpleadosAttrition['OverTime'], prefix='OverTime', dtype=int)\n",
    "EmpleadosAttrition = EmpleadosAttrition.drop(columns=['OverTime'])\n",
    "EmpleadosAttrition = pd.concat([EmpleadosAttrition, OverTime_OH], axis=1)\n",
    "EmpleadosAttrition['OverTime'] = EmpleadosAttrition['OverTime_Yes']\n",
    "EmpleadosAttrition = EmpleadosAttrition.drop(columns=['OverTime_No', 'OverTime_Yes'])"
   ]
  },
  {
   "cell_type": "code",
   "execution_count": 250,
   "metadata": {},
   "outputs": [],
   "source": [
    "#13g Convierte todas las variables categóricas que quedan a numéricas:\n",
    "Attrition_OH = pd.get_dummies(EmpleadosAttrition['Attrition'], prefix='Attrition', dtype=int)\n",
    "EmpleadosAttrition = EmpleadosAttrition.drop(columns=['Attrition'])\n",
    "EmpleadosAttrition = pd.concat([EmpleadosAttrition, Attrition_OH], axis=1)\n",
    "EmpleadosAttrition['Attrition'] = EmpleadosAttrition['Attrition_Yes']\n",
    "EmpleadosAttrition = EmpleadosAttrition.drop(columns=['Attrition_No', 'Attrition_Yes'])"
   ]
  },
  {
   "cell_type": "code",
   "execution_count": 252,
   "metadata": {},
   "outputs": [
    {
     "name": "stdout",
     "output_type": "stream",
     "text": [
      "Age                                 -0.212121\n",
      "Education                           -0.055531\n",
      "EnvironmentSatisfaction             -0.124327\n",
      "JobInvolvement                      -0.166785\n",
      "JobLevel                            -0.214266\n",
      "JobSatisfaction                     -0.164957\n",
      "NumCompaniesWorked                  -0.009082\n",
      "PercentSalaryHike                   -0.060880\n",
      "PerformanceRating                   -0.006471\n",
      "RelationshipSatisfaction            -0.030945\n",
      "TotalWorkingYears                   -0.213329\n",
      "TrainingTimesLastYear               -0.070884\n",
      "WorkLifeBalance                     -0.021723\n",
      "YearsInCurrentRole                  -0.203918\n",
      "YearsSinceLastPromotion             -0.069000\n",
      "YearsAtCompany                      -0.176001\n",
      "DistanceFromHome                     0.052732\n",
      "MonthlyIncome_norm                  -0.194936\n",
      "BusinessTravel_Non-Travel           -0.100698\n",
      "BusinessTravel_Travel_Frequently     0.035387\n",
      "BusinessTravel_Travel_Rarely         0.042755\n",
      "clase_Human Resources                0.023389\n",
      "clase_Research & Development        -0.072269\n",
      "clase_Sales                          0.066116\n",
      "EducationField_Human Resources       0.043404\n",
      "EducationField_Life Sciences        -0.027457\n",
      "EducationField_Marketing             0.016768\n",
      "EducationField_Medical              -0.054144\n",
      "EducationField_Other                -0.004275\n",
      "EducationField_Technical Degree      0.129104\n",
      "Gender_Female                        0.028839\n",
      "Gender_Male                         -0.028839\n",
      "JobRole_Healthcare Representative   -0.103274\n",
      "JobRole_Human Resources              0.032714\n",
      "JobRole_Laboratory Technician        0.125264\n",
      "JobRole_Manager                     -0.089885\n",
      "JobRole_Manufacturing Director      -0.042404\n",
      "JobRole_Research Director           -0.116263\n",
      "JobRole_Research Scientist           0.007977\n",
      "JobRole_Sales Executive             -0.003115\n",
      "JobRole_Sales Representative         0.191294\n",
      "MaritalStatus_Divorced              -0.107869\n",
      "MaritalStatus_Married               -0.094734\n",
      "MaritalStatus_Single                 0.205849\n",
      "OverTime                             0.324777\n",
      "Name: Attrition, dtype: float64\n"
     ]
    }
   ],
   "source": [
    "#14 Calcula la correlación lineal de cada una de las variables con \n",
    "# respecto al Attrition.\n",
    "correlation_matrix=EmpleadosAttrition.corr()\n",
    "correlation_attrition = correlation_matrix['Attrition'].drop('Attrition')\n",
    "print(correlation_attrition)"
   ]
  },
  {
   "cell_type": "code",
   "execution_count": null,
   "metadata": {},
   "outputs": [],
   "source": [
    "#15 Selecciona solo aquellas variables que tengan una correlación mayor \n",
    "# o igual a 0.1, dejándolas en otro frame llamado EmpleadosAttritionFinal.\n",
    "lvs = 0.1\n",
    "filtrar_variables = correlation_attrition[correlation_attrition.abs() >= lvs].index\n",
    "EmpleadosAttritionFinal = EmpleadosAttrition[filtrar_variables]\n",
    "EmpleadosAttritionFinal['Attrition'] = EmpleadosAttrition['Attrition']\n"
   ]
  },
  {
   "cell_type": "code",
   "execution_count": null,
   "metadata": {},
   "outputs": [],
   "source": [
    "#16 Crea una nueva variable llamada EmpleadosAttritionPCA \n",
    "# formada por los componentes principales del frame EmpleadosAttritionFinal.\n",
    "pca = PCA()\n",
    "EmpleadosAttritionPCA = pca.fit_transform(EmpleadosAttritionFinal)\n",
    "\n",
    "#17 Agrega el mínimo número de Componentes Principales en columnas del frame\n",
    "# EmpleadosAttritionPCA que logren explicar el 80% de la varianza, \n",
    "# al frame EmpleadosAttritionFinal llamando a cada unaC0, C1, etc.\n",
    "explained_variance = pca.explained_variance_ratio_.cumsum()\n",
    "num_components = (explained_variance >= 0.80).argmax() + 1\n",
    "\n",
    "for i in range(num_components):\n",
    "    EmpleadosAttritionFinal = EmpleadosAttritionFinal.assign(**{f'C{i}': EmpleadosAttritionPCA[:, i]})\n",
    "\n"
   ]
  },
  {
   "cell_type": "code",
   "execution_count": 258,
   "metadata": {},
   "outputs": [],
   "source": [
    "#18 Guarda el set de datos que has formado y que tienes en EmpleadosAttritionFinal\n",
    "# en un archivo CSV llamado EmpleadosAttritionFinal.csv.\n",
    "EmpleadosAttritionFinal.to_csv(\"EmpleadosAttritionFinal.csv\", index=False)"
   ]
  }
 ],
 "metadata": {
  "kernelspec": {
   "display_name": "Python 3",
   "language": "python",
   "name": "python3"
  },
  "language_info": {
   "codemirror_mode": {
    "name": "ipython",
    "version": 3
   },
   "file_extension": ".py",
   "mimetype": "text/x-python",
   "name": "python",
   "nbconvert_exporter": "python",
   "pygments_lexer": "ipython3",
   "version": "3.12.1"
  }
 },
 "nbformat": 4,
 "nbformat_minor": 2
}
